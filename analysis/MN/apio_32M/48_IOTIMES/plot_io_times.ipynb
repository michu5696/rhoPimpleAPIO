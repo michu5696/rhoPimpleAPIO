{
 "cells": [
  {
   "cell_type": "code",
   "execution_count": 1,
   "metadata": {},
   "outputs": [],
   "source": [
    "import numpy as np\n",
    "import matplotlib.pyplot as plt"
   ]
  },
  {
   "cell_type": "code",
   "execution_count": 2,
   "metadata": {},
   "outputs": [],
   "source": [
    "rho_io=np.loadtxt(\"rho_io.dat\")\n",
    "phi_io=np.loadtxt(\"phi_io.dat\")\n",
    "p_io=np.loadtxt(\"p_io.dat\")\n",
    "k_io=np.loadtxt(\"k_io.dat\")\n",
    "nut_io=np.loadtxt(\"nut_io.dat\")\n",
    "alphat_io=np.loadtxt(\"alphat_io.dat\")\n",
    "U_io=np.loadtxt(\"U_io.dat\")\n",
    "T_io=np.loadtxt(\"T_io.dat\")"
   ]
  },
  {
   "cell_type": "code",
   "execution_count": 3,
   "metadata": {},
   "outputs": [
    {
     "data": {
      "text/plain": [
       "[0.001183760166168213,\n",
       " 0.004796922206878662,\n",
       " 0.006057012081146241,\n",
       " 0.0017969131469726563,\n",
       " 0.0008707642555236816,\n",
       " 0.0010531187057495118,\n",
       " 0.0774710416793823,\n",
       " 0.016974755695887973]"
      ]
     },
     "execution_count": 3,
     "metadata": {},
     "output_type": "execute_result"
    }
   ],
   "source": [
    "io_times=[]\n",
    "for f in [rho_io,phi_io,p_io,k_io,nut_io,alphat_io,U_io,T_io]:\n",
    "    io_times.append(np.mean(f))\n",
    "io_times"
   ]
  },
  {
   "cell_type": "code",
   "execution_count": 8,
   "metadata": {},
   "outputs": [
    {
     "data": {
      "text/plain": [
       "Text(0.5, 0, 'Field')"
      ]
     },
     "execution_count": 8,
     "metadata": {},
     "output_type": "execute_result"
    },
    {
     "data": {
      "image/png": "[encoded data removed]",
      "text/plain": [
       "<Figure size 432x288 with 1 Axes>"
      ]
     },
     "metadata": {
      "needs_background": "light"
     },
     "output_type": "display_data"
    }
   ],
   "source": [
    "fig,ax=plt.subplots()\n",
    "labels=[\"rho\",\"phi\",\"p\",\"k\",\"nut\",\"alphat\",\"U\",\"T\"]\n",
    "ax.bar(labels,io_times)\n",
    "ax.set_ylabel(\"Time(s)\")\n",
    "ax.set_xlabel(\"Field\")"
   ]
  },
  {
   "cell_type": "code",
   "execution_count": null,
   "metadata": {},
   "outputs": [],
   "source": []
  }
 ],
 "metadata": {
  "kernelspec": {
   "display_name": "Python 3",
   "language": "python",
   "name": "python3"
  },
  "language_info": {
   "codemirror_mode": {
    "name": "ipython",
    "version": 3
   },
   "file_extension": ".py",
   "mimetype": "text/x-python",
   "name": "python",
   "nbconvert_exporter": "python",
   "pygments_lexer": "ipython3",
   "version": "3.8.5"
  }
 },
 "nbformat": 4,
 "nbformat_minor": 4
}
